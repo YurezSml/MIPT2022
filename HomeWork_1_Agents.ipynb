{
 "cells": [
  {
   "cell_type": "code",
   "execution_count": 1,
   "metadata": {},
   "outputs": [],
   "source": [
    "import numpy as np\n",
    "import pandas as pd\n",
    "import random\n",
    "\n",
    "import math\n",
    "\n",
    "import matplotlib.pyplot as plt\n",
    "\n",
    "from kaggle_environments import make, evaluate, utils"
   ]
  },
  {
   "cell_type": "code",
   "execution_count": 2,
   "metadata": {},
   "outputs": [],
   "source": [
    "import sys\n",
    "random.seed()"
   ]
  },
  {
   "cell_type": "code",
   "execution_count": 3,
   "metadata": {},
   "outputs": [],
   "source": [
    "# Подсказка чтобы не забыть обозначения\n",
    "#0 - rock \n",
    "#1 - paper\n",
    "#2 - scissors"
   ]
  },
  {
   "cell_type": "code",
   "execution_count": 4,
   "metadata": {},
   "outputs": [],
   "source": [
    "# Количество игр для каждого матча между двумя агентами\n",
    "number_of_episodes = 1000"
   ]
  },
  {
   "cell_type": "code",
   "execution_count": 5,
   "metadata": {},
   "outputs": [],
   "source": [
    "# Список, сопоставляющий вариант с выигрышным ему\n",
    "win_options = [1, 2, 0]"
   ]
  },
  {
   "cell_type": "code",
   "execution_count": 6,
   "metadata": {},
   "outputs": [],
   "source": [
    "# Простые агенты, которые всегда выбирают только заданный заранее элемент\n",
    "\n",
    "def rock_agent(observation, configuration):\n",
    "    return 0\n",
    "\n",
    "\n",
    "def paper_agent(observation, configuration):\n",
    "    return 1\n",
    "\n",
    "\n",
    "def scissors_agent(observation, configuration):\n",
    "    return 2"
   ]
  },
  {
   "cell_type": "code",
   "execution_count": 7,
   "metadata": {},
   "outputs": [],
   "source": [
    "# Агент #1 - на первом шаге случайно выбирает один из вариантов и потом всегда использует его\n",
    "\n",
    "first_random_action = None\n",
    "\n",
    "\n",
    "def first_random_agent(observation, configuration):\n",
    "    global first_random_action\n",
    "    if observation.step == 0:\n",
    "        first_random_action = random.randrange(0, configuration.signs)\n",
    "    return first_random_action"
   ]
  },
  {
   "cell_type": "code",
   "execution_count": 8,
   "metadata": {},
   "outputs": [],
   "source": [
    "# Агент #2 - выбирает варианты по очереди\n",
    "\n",
    "order_action = 0\n",
    "\n",
    "\n",
    "def order_agent(observation, configuration):\n",
    "    global order_action\n",
    "    if order_action == 2:\n",
    "        order_action = 0\n",
    "    else:\n",
    "        order_action += 1\n",
    "    return order_action"
   ]
  },
  {
   "cell_type": "code",
   "execution_count": 9,
   "metadata": {},
   "outputs": [],
   "source": [
    "# Агент #3 - выбирает варианты по очереди, а потом в обратном порядке\n",
    "\n",
    "counterorder_action = 0\n",
    "counterorder_additive = 1\n",
    "\n",
    "\n",
    "def counterorder_agent(observation, configuration):\n",
    "    global counterorder_action\n",
    "    global counterorder_additive\n",
    "    if counterorder_action == 2:\n",
    "        counterorder_additive = -1\n",
    "    elif counterorder_action == 0:\n",
    "        counterorder_additive = 1\n",
    "    counterorder_action += counterorder_additive\n",
    "    return counterorder_action"
   ]
  },
  {
   "cell_type": "code",
   "execution_count": 10,
   "metadata": {},
   "outputs": [],
   "source": [
    "# Агент #4 - всегда выбирает варианты случайно\n",
    "\n",
    "\n",
    "def always_random_agent(observation, configuration):\n",
    "    return random.randrange(0, configuration.signs)"
   ]
  },
  {
   "cell_type": "code",
   "execution_count": 11,
   "metadata": {},
   "outputs": [],
   "source": [
    "# Агент #5\n",
    "# 1. Выбирает вариант случайно\n",
    "# 2. Повторяет его\n",
    "# 3. Выбирает случайно вариант из двух оставшихся\n",
    "# 4. Повторяет действия 1-3\n",
    "\n",
    "random_with_repeat_action = None\n",
    "random_with_repeat_counter = 0\n",
    "\n",
    "\n",
    "def random_agent_with_repeat(observation, configuration):\n",
    "    global random_with_repeat_action\n",
    "    global random_with_repeat_counter\n",
    "    if random_with_repeat_counter == 0:\n",
    "        random_with_repeat_action = random.randrange(0, configuration.signs)\n",
    "        random_with_repeat_counter += 1\n",
    "    else:\n",
    "        if random_with_repeat_counter == 2:\n",
    "            list_for_choice = [i for i in range(0, configuration.signs) if i != random_with_repeat_action]\n",
    "            random_with_repeat_action = random.choice(list_for_choice)\n",
    "            random_with_repeat_counter = 0\n",
    "        else:\n",
    "            random_with_repeat_counter += 1\n",
    "    return random_with_repeat_action"
   ]
  },
  {
   "cell_type": "code",
   "execution_count": 12,
   "metadata": {},
   "outputs": [],
   "source": [
    "# Агент #6 - выбирает случайно вариант и дальше не использует его, выбирая случайно из двух оставшихся\n",
    "\n",
    "choosen_action = None\n",
    "actions_list = []\n",
    "\n",
    "\n",
    "def random_agent_with_exclusion(observation, configuration):\n",
    "    global choosen_action\n",
    "    global actions_list\n",
    "    if observation.step == 0:\n",
    "        choosen_action = random.randrange(0, configuration.signs)\n",
    "    actions_list = [i for i in range(0, configuration.signs) if i != choosen_action]\n",
    "    return random.choice(actions_list)"
   ]
  },
  {
   "cell_type": "code",
   "execution_count": 13,
   "metadata": {},
   "outputs": [],
   "source": [
    "# Агент #7 - берет последний вариант соперника и выбирает выигрышный к нему\n",
    "\n",
    "\n",
    "def counter_agent(observation, configuration):\n",
    "    if observation.step == 0:\n",
    "        return random.randrange(0, configuration.signs)\n",
    "    else:\n",
    "        return win_options[observation.lastOpponentAction]"
   ]
  },
  {
   "cell_type": "code",
   "execution_count": 14,
   "metadata": {},
   "outputs": [],
   "source": [
    "# Агент #8 - запоминает 2 последних варианта соперника и выбирает случайно из выигрышных к ним\n",
    "\n",
    "counter_pre_pre_action = None\n",
    "\n",
    "\n",
    "def agent_counter_memorized_2(observation, configuration):\n",
    "    global counter_pre_pre_action\n",
    "    res_action = 0\n",
    "    if observation.step == 0:\n",
    "        res_action = random.randrange(0, configuration.signs)\n",
    "    else:\n",
    "        if counter_pre_pre_action is None:\n",
    "            res_action = random.randrange(0, configuration.signs)\n",
    "        else:\n",
    "            res_action = random.choice([win_options[counter_pre_pre_action], win_options[observation.lastOpponentAction]])\n",
    "        counter_pre_pre_action = observation.lastOpponentAction\n",
    "    return res_action "
   ]
  },
  {
   "cell_type": "code",
   "execution_count": 15,
   "metadata": {},
   "outputs": [],
   "source": [
    "# Агент #9 - берет последний вариант соперника и выбирает случайно из двух других\n",
    "\n",
    "\n",
    "def random_counter_agent(observation, configuration):\n",
    "    if observation.step == 0:\n",
    "        return random.randrange(0, configuration.signs)\n",
    "    else:\n",
    "        return random.choice([i for i in range(0, configuration.signs) if i != observation.lastOpponentAction])"
   ]
  },
  {
   "cell_type": "code",
   "execution_count": 16,
   "metadata": {},
   "outputs": [],
   "source": [
    "# Агент #10 - запоминает последние 2 варианта соперника и выбирает третий или случайно из двух оставшихся\n",
    "\n",
    "random_pre_pre_action = None\n",
    "\n",
    "\n",
    "def agent_random_memorized_2(observation, configuration):\n",
    "    global random_pre_pre_action\n",
    "    res_action = 0\n",
    "    if observation.step == 0:\n",
    "        res_action = random.randrange(0, configuration.signs)\n",
    "    else:\n",
    "        if random_pre_pre_action is None:\n",
    "            res_action = random.randrange(0, configuration.signs)\n",
    "        else:\n",
    "            list_for_choice = [i for i in range(0, configuration.signs) if i != random_pre_pre_action and i != observation.lastOpponentAction]\n",
    "            res_action = random.choice(list_for_choice)\n",
    "        random_pre_pre_action = observation.lastOpponentAction\n",
    "    return res_action"
   ]
  },
  {
   "cell_type": "code",
   "execution_count": 34,
   "metadata": {},
   "outputs": [],
   "source": [
    "# Агент #11\n",
    "# - запоминает последние 10 вариантов соперника или выбирает случайный при их отсутствии\n",
    "# - присваивает каждому из вариантов вес в соответсвии с частотой появления\n",
    "# - выбирает выигрышный вариант для варианта с максимальным весом\n",
    "\n",
    "from collections import Counter\n",
    "\n",
    "\n",
    "last_10_options = []\n",
    "\n",
    "\n",
    "def calc_actions_weights(actions_data):\n",
    "    options_count = Counter(actions_data)\n",
    "    data_size = len(actions_data)\n",
    "    return [options_count[0]/data_size, options_count[1]/data_size, options_count[2]/data_size]\n",
    "\n",
    "\n",
    "def agent_last_10_weights(observation, configuration):\n",
    "    global last_10_options\n",
    "    if observation.step == 0:\n",
    "        current_action = random.randrange(0, configuration.signs)\n",
    "    else:\n",
    "        if len(last_10_options) < 10:\n",
    "            current_action = random.randrange(0, configuration.signs)\n",
    "            last_10_options.append(observation.lastOpponentAction)\n",
    "        else:\n",
    "            actions_weights = calc_actions_weights(last_10_options)\n",
    "            max_weight = max(actions_weights)\n",
    "            current_action = win_options[actions_weights.index(max_weight)]\n",
    "            last_10_options = last_10_options[1:]\n",
    "            last_10_options.append(observation.lastOpponentAction)\n",
    "    return current_action\n"
   ]
  },
  {
   "cell_type": "code",
   "execution_count": 35,
   "metadata": {},
   "outputs": [],
   "source": [
    "# Агент #12\n",
    "# 1. Выбирает случайно вариант\n",
    "# 2. Выдает его n_value раз\n",
    "# 3. Повторяет шаги 1 и 2\n",
    "\n",
    "n_value = 10\n",
    "\n",
    "n_times_counter = 1\n",
    "n_times_action = None\n",
    "\n",
    "\n",
    "def agent_random_n_times(observation, configuration):\n",
    "    global n_times_action\n",
    "    global n_times_counter\n",
    "    global n_value\n",
    "    if observation.step == 0:\n",
    "        n_times_action = random.randrange(0, configuration.signs)\n",
    "    else:\n",
    "        if n_times_counter == n_value:\n",
    "            n_times_action = random.randrange(0, configuration.signs)\n",
    "            n_times_counter = 1\n",
    "        else:\n",
    "            n_times_counter += 1\n",
    "    return n_times_action"
   ]
  },
  {
   "cell_type": "code",
   "execution_count": 36,
   "metadata": {},
   "outputs": [],
   "source": [
    "# Агент #13\n",
    "# 1. Выбирает случайно вариант\n",
    "# 2. Выдает его случайное количество раз, но не больше n_max_value\n",
    "# 3. Повторяет шаги 1 и 2\n",
    "\n",
    "n_max_value = 10\n",
    "n_2_value = 1\n",
    "\n",
    "n_times_2_counter = 1\n",
    "n_times_2_action = None\n",
    "\n",
    "\n",
    "def agent_random_n_2_times(observation, configuration):\n",
    "    global n_times_2_action\n",
    "    global n_times_2_counter\n",
    "    global n_max_value\n",
    "    global n_2_value\n",
    "    if observation.step == 0:\n",
    "        n_times_2_action = random.randrange(0, configuration.signs)\n",
    "        n_2_value = random.randrange(1, n_max_value)\n",
    "    else:\n",
    "        if n_times_2_counter == n_2_value:\n",
    "            n_times_2_action = random.randrange(0, configuration.signs)\n",
    "            n_2_value = random.randrange(1, n_max_value)\n",
    "            n_times_2_counter = 1\n",
    "        else:\n",
    "            n_times_2_counter += 1\n",
    "    return n_times_2_action"
   ]
  },
  {
   "cell_type": "code",
   "execution_count": 37,
   "metadata": {},
   "outputs": [],
   "source": [
    "all_agents_dictionary = {\n",
    "    'first_random_agent': first_random_agent,  # 1\n",
    "    'order_agent': order_agent,  # 2\n",
    "    'counterorder_agent': counterorder_agent,  # 3\n",
    "    'always_random_agent': always_random_agent,  # 4\n",
    "    'random_agent_with_repeat': random_agent_with_repeat,  # 5\n",
    "    'random_agent_with_exclusion': random_agent_with_exclusion,  # 6\n",
    "    'counter_agent': counter_agent,  # 7\n",
    "    'agent_counter_memorized_2': agent_counter_memorized_2,  # 8\n",
    "    'random_counter_agent': random_counter_agent,  # 9\n",
    "    'agent_random_memorized_2': agent_random_memorized_2,  # 10\n",
    "    'agent_last_10_weights': agent_last_10_weights,  # 11\n",
    "    'agent_random_n_times': agent_random_n_times,  # 12\n",
    "    'agent_random_n_2_times': agent_random_n_2_times  # 13\n",
    "}"
   ]
  },
  {
   "cell_type": "code",
   "execution_count": 38,
   "metadata": {},
   "outputs": [],
   "source": [
    "# Функция, моделирующая турнир по следующим првилам:\n",
    "# 1. Турнир проводится в виде попарных игр между агентами количеством number_of_episodes\n",
    "# 2. Турнир включает игру агента с самим собой\n",
    "# 3. Для определения победы установлен порог, равный 5\n",
    "# 4. В случае победы агент получает 1 балл\n",
    "# 5. В случае ничьей оба агента получают по 0.5 балла\n",
    "\n",
    "\n",
    "def start_tournament(agents):\n",
    "    results = {agent: 0.0 for agent in agents}\n",
    "    for agent_1 in agents:\n",
    "        for agent_2 in agents:\n",
    "            game_result = evaluate(\"rps\", [agents[agent_1], agents[agent_2]], configuration={\"episodeSteps\": number_of_episodes, \"tieRewardThreshold\": 5})\n",
    "            if game_result[0][0] == 0.0:\n",
    "                results[agent_1] += 0.5\n",
    "                results[agent_2] += 0.5\n",
    "            if game_result[0][0] > 0.0:\n",
    "                results[agent_1] += 1.0\n",
    "            if game_result[0][0] < 0.0:\n",
    "                results[agent_2] += 1.0\n",
    "    return results"
   ]
  },
  {
   "cell_type": "code",
   "execution_count": 39,
   "metadata": {},
   "outputs": [
    {
     "data": {
      "text/html": [
       "<div>\n",
       "<style scoped>\n",
       "    .dataframe tbody tr th:only-of-type {\n",
       "        vertical-align: middle;\n",
       "    }\n",
       "\n",
       "    .dataframe tbody tr th {\n",
       "        vertical-align: top;\n",
       "    }\n",
       "\n",
       "    .dataframe thead th {\n",
       "        text-align: right;\n",
       "    }\n",
       "</style>\n",
       "<table border=\"1\" class=\"dataframe\">\n",
       "  <thead>\n",
       "    <tr style=\"text-align: right;\">\n",
       "      <th></th>\n",
       "      <th>Agent</th>\n",
       "      <th>Scores</th>\n",
       "    </tr>\n",
       "  </thead>\n",
       "  <tbody>\n",
       "    <tr>\n",
       "      <th>0</th>\n",
       "      <td>first_random_agent</td>\n",
       "      <td>8.5</td>\n",
       "    </tr>\n",
       "    <tr>\n",
       "      <th>1</th>\n",
       "      <td>order_agent</td>\n",
       "      <td>13.5</td>\n",
       "    </tr>\n",
       "    <tr>\n",
       "      <th>2</th>\n",
       "      <td>counterorder_agent</td>\n",
       "      <td>11.5</td>\n",
       "    </tr>\n",
       "    <tr>\n",
       "      <th>3</th>\n",
       "      <td>always_random_agent</td>\n",
       "      <td>12.0</td>\n",
       "    </tr>\n",
       "    <tr>\n",
       "      <th>4</th>\n",
       "      <td>random_agent_with_repeat</td>\n",
       "      <td>17.0</td>\n",
       "    </tr>\n",
       "    <tr>\n",
       "      <th>5</th>\n",
       "      <td>random_agent_with_exclusion</td>\n",
       "      <td>9.5</td>\n",
       "    </tr>\n",
       "    <tr>\n",
       "      <th>6</th>\n",
       "      <td>counter_agent</td>\n",
       "      <td>18.0</td>\n",
       "    </tr>\n",
       "    <tr>\n",
       "      <th>7</th>\n",
       "      <td>agent_counter_memorized_2</td>\n",
       "      <td>16.5</td>\n",
       "    </tr>\n",
       "    <tr>\n",
       "      <th>8</th>\n",
       "      <td>random_counter_agent</td>\n",
       "      <td>14.0</td>\n",
       "    </tr>\n",
       "    <tr>\n",
       "      <th>9</th>\n",
       "      <td>agent_random_memorized_2</td>\n",
       "      <td>12.5</td>\n",
       "    </tr>\n",
       "    <tr>\n",
       "      <th>10</th>\n",
       "      <td>agent_last_10_weights</td>\n",
       "      <td>16.0</td>\n",
       "    </tr>\n",
       "    <tr>\n",
       "      <th>11</th>\n",
       "      <td>agent_random_n_times</td>\n",
       "      <td>8.5</td>\n",
       "    </tr>\n",
       "    <tr>\n",
       "      <th>12</th>\n",
       "      <td>agent_random_n_2_times</td>\n",
       "      <td>11.5</td>\n",
       "    </tr>\n",
       "  </tbody>\n",
       "</table>\n",
       "</div>"
      ],
      "text/plain": [
       "                          Agent  Scores\n",
       "0            first_random_agent     8.5\n",
       "1                   order_agent    13.5\n",
       "2            counterorder_agent    11.5\n",
       "3           always_random_agent    12.0\n",
       "4      random_agent_with_repeat    17.0\n",
       "5   random_agent_with_exclusion     9.5\n",
       "6                 counter_agent    18.0\n",
       "7     agent_counter_memorized_2    16.5\n",
       "8          random_counter_agent    14.0\n",
       "9      agent_random_memorized_2    12.5\n",
       "10        agent_last_10_weights    16.0\n",
       "11         agent_random_n_times     8.5\n",
       "12       agent_random_n_2_times    11.5"
      ]
     },
     "execution_count": 39,
     "metadata": {},
     "output_type": "execute_result"
    }
   ],
   "source": [
    "# Запускаем турнир со словарем агентов и подготавливаем результаты для анализа\n",
    "\n",
    "\n",
    "tournament_result = start_tournament(all_agents_dictionary)\n",
    "data_for_graph = pd.DataFrame(tournament_result.items(), columns=['Agent', 'Scores'])\n",
    "data_for_graph"
   ]
  },
  {
   "cell_type": "code",
   "execution_count": 40,
   "metadata": {},
   "outputs": [
    {
     "data": {
      "text/plain": [
       "<BarContainer object of 13 artists>"
      ]
     },
     "execution_count": 40,
     "metadata": {},
     "output_type": "execute_result"
    },
    {
     "data": {
      "image/png": "[encoded data removed]",
      "text/plain": [
       "<Figure size 432x288 with 1 Axes>"
      ]
     },
     "metadata": {
      "needs_background": "light"
     },
     "output_type": "display_data"
    }
   ],
   "source": [
    "plt.xticks(rotation=90)  # Поворачиваем надписи на оси х\n",
    "plt.bar(data_for_graph[\"Agent\"], data_for_graph[\"Scores\"])"
   ]
  },
  {
   "cell_type": "code",
   "execution_count": null,
   "metadata": {},
   "outputs": [],
   "source": [
    "# По результатам проведенных расчетов набольшее количество баллов - 18 набрал counter_agent\n",
    "# counter_agent - (берет последний вариант соперника и выбирает выигрышный к нему)\n",
    "# Наименьшее количество баллов - 8.5 набрали агенты first_random_agent и agent_random_n_times\n",
    "# first_random_agent - (на первом шаге случайно выбирает один из вариантов и потом всегда использует его)\n",
    "# agent_random_n_times - (Выбирает случайно вариант, выдает его n_value раз и повторяет эти шаги)"
   ]
  }
 ],
 "metadata": {
  "kernelspec": {
   "display_name": "Python 3",
   "language": "python",
   "name": "python3"
  },
  "language_info": {
   "codemirror_mode": {
    "name": "ipython",
    "version": 3
   },
   "file_extension": ".py",
   "mimetype": "text/x-python",
   "name": "python",
   "nbconvert_exporter": "python",
   "pygments_lexer": "ipython3",
   "version": "3.8.1"
  }
 },
 "nbformat": 4,
 "nbformat_minor": 2
}
